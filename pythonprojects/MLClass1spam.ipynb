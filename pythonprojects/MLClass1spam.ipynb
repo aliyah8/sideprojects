{
 "cells": [
  {
   "cell_type": "code",
   "execution_count": 9,
   "metadata": {
    "scrolled": true
   },
   "outputs": [
    {
     "name": "stdout",
     "output_type": "stream",
     "text": [
      "Collecting nltk\n",
      "\u001b[?25l  Downloading https://files.pythonhosted.org/packages/f6/1d/d925cfb4f324ede997f6d47bea4d9babba51b49e87a767c170b77005889d/nltk-3.4.5.zip (1.5MB)\n",
      "\u001b[K     |████████████████████████████████| 1.5MB 2.2MB/s eta 0:00:01\n",
      "\u001b[?25hRequirement already satisfied: six in ./python_projects_env/lib/python3.6/site-packages (from nltk) (1.14.0)\n",
      "Building wheels for collected packages: nltk\n",
      "  Building wheel for nltk (setup.py) ... \u001b[?25ldone\n",
      "\u001b[?25h  Created wheel for nltk: filename=nltk-3.4.5-cp36-none-any.whl size=1449907 sha256=0c620ea2cb2fa14f7b42cb753d8696616f3a85827707c4a44cbb27791228ee37\n",
      "  Stored in directory: /home/vno/.cache/pip/wheels/96/86/f6/68ab24c23f207c0077381a5e3904b2815136b879538a24b483\n",
      "Successfully built nltk\n",
      "Installing collected packages: nltk\n",
      "Successfully installed nltk-3.4.5\n",
      "\u001b[33mWARNING: You are using pip version 19.3.1; however, version 20.0.2 is available.\n",
      "You should consider upgrading via the 'pip install --upgrade pip' command.\u001b[0m\n"
     ]
    }
   ],
   "source": [
    "import sys\n",
    "!{sys.executable} -m pip install nltk"
   ]
  },
  {
   "cell_type": "code",
   "execution_count": null,
   "metadata": {},
   "outputs": [],
   "source": [
    "## Analaysing sms data to be able to identify spam messages using sklearn library"
   ]
  },
  {
   "cell_type": "code",
   "execution_count": 10,
   "metadata": {},
   "outputs": [],
   "source": [
    "import pandas as pd\n",
    "import sklearn\n",
    "import nltk"
   ]
  },
  {
   "cell_type": "code",
   "execution_count": 3,
   "metadata": {},
   "outputs": [
    {
     "data": {
      "text/html": [
       "<div>\n",
       "<style scoped>\n",
       "    .dataframe tbody tr th:only-of-type {\n",
       "        vertical-align: middle;\n",
       "    }\n",
       "\n",
       "    .dataframe tbody tr th {\n",
       "        vertical-align: top;\n",
       "    }\n",
       "\n",
       "    .dataframe thead th {\n",
       "        text-align: right;\n",
       "    }\n",
       "</style>\n",
       "<table border=\"1\" class=\"dataframe\">\n",
       "  <thead>\n",
       "    <tr style=\"text-align: right;\">\n",
       "      <th></th>\n",
       "      <th>v1</th>\n",
       "      <th>v2</th>\n",
       "      <th>Unnamed: 2</th>\n",
       "      <th>Unnamed: 3</th>\n",
       "      <th>Unnamed: 4</th>\n",
       "    </tr>\n",
       "  </thead>\n",
       "  <tbody>\n",
       "    <tr>\n",
       "      <th>0</th>\n",
       "      <td>ham</td>\n",
       "      <td>Go until jurong point, crazy.. Available only ...</td>\n",
       "      <td>NaN</td>\n",
       "      <td>NaN</td>\n",
       "      <td>NaN</td>\n",
       "    </tr>\n",
       "    <tr>\n",
       "      <th>1</th>\n",
       "      <td>ham</td>\n",
       "      <td>Ok lar... Joking wif u oni...</td>\n",
       "      <td>NaN</td>\n",
       "      <td>NaN</td>\n",
       "      <td>NaN</td>\n",
       "    </tr>\n",
       "    <tr>\n",
       "      <th>2</th>\n",
       "      <td>spam</td>\n",
       "      <td>Free entry in 2 a wkly comp to win FA Cup fina...</td>\n",
       "      <td>NaN</td>\n",
       "      <td>NaN</td>\n",
       "      <td>NaN</td>\n",
       "    </tr>\n",
       "    <tr>\n",
       "      <th>3</th>\n",
       "      <td>ham</td>\n",
       "      <td>U dun say so early hor... U c already then say...</td>\n",
       "      <td>NaN</td>\n",
       "      <td>NaN</td>\n",
       "      <td>NaN</td>\n",
       "    </tr>\n",
       "    <tr>\n",
       "      <th>4</th>\n",
       "      <td>ham</td>\n",
       "      <td>Nah I don't think he goes to usf, he lives aro...</td>\n",
       "      <td>NaN</td>\n",
       "      <td>NaN</td>\n",
       "      <td>NaN</td>\n",
       "    </tr>\n",
       "  </tbody>\n",
       "</table>\n",
       "</div>"
      ],
      "text/plain": [
       "     v1                                                 v2 Unnamed: 2  \\\n",
       "0   ham  Go until jurong point, crazy.. Available only ...        NaN   \n",
       "1   ham                      Ok lar... Joking wif u oni...        NaN   \n",
       "2  spam  Free entry in 2 a wkly comp to win FA Cup fina...        NaN   \n",
       "3   ham  U dun say so early hor... U c already then say...        NaN   \n",
       "4   ham  Nah I don't think he goes to usf, he lives aro...        NaN   \n",
       "\n",
       "  Unnamed: 3 Unnamed: 4  \n",
       "0        NaN        NaN  \n",
       "1        NaN        NaN  \n",
       "2        NaN        NaN  \n",
       "3        NaN        NaN  \n",
       "4        NaN        NaN  "
      ]
     },
     "execution_count": 3,
     "metadata": {},
     "output_type": "execute_result"
    }
   ],
   "source": [
    "data_frame = pd.read_csv('spam.csv', encoding = 'latin-1')\n",
    "data_frame.head()"
   ]
  },
  {
   "cell_type": "code",
   "execution_count": 11,
   "metadata": {},
   "outputs": [
    {
     "data": {
      "text/html": [
       "<div>\n",
       "<style scoped>\n",
       "    .dataframe tbody tr th:only-of-type {\n",
       "        vertical-align: middle;\n",
       "    }\n",
       "\n",
       "    .dataframe tbody tr th {\n",
       "        vertical-align: top;\n",
       "    }\n",
       "\n",
       "    .dataframe thead th {\n",
       "        text-align: right;\n",
       "    }\n",
       "</style>\n",
       "<table border=\"1\" class=\"dataframe\">\n",
       "  <thead>\n",
       "    <tr style=\"text-align: right;\">\n",
       "      <th></th>\n",
       "      <th>count</th>\n",
       "      <th>unique</th>\n",
       "      <th>top</th>\n",
       "      <th>freq</th>\n",
       "    </tr>\n",
       "  </thead>\n",
       "  <tbody>\n",
       "    <tr>\n",
       "      <th>v1</th>\n",
       "      <td>5572</td>\n",
       "      <td>2</td>\n",
       "      <td>ham</td>\n",
       "      <td>4825</td>\n",
       "    </tr>\n",
       "    <tr>\n",
       "      <th>v2</th>\n",
       "      <td>5572</td>\n",
       "      <td>5169</td>\n",
       "      <td>Sorry, I'll call later</td>\n",
       "      <td>30</td>\n",
       "    </tr>\n",
       "    <tr>\n",
       "      <th>Unnamed: 2</th>\n",
       "      <td>50</td>\n",
       "      <td>43</td>\n",
       "      <td>bt not his girlfrnd... G o o d n i g h t . . .@\"</td>\n",
       "      <td>3</td>\n",
       "    </tr>\n",
       "    <tr>\n",
       "      <th>Unnamed: 3</th>\n",
       "      <td>12</td>\n",
       "      <td>10</td>\n",
       "      <td>MK17 92H. 450Ppw 16\"</td>\n",
       "      <td>2</td>\n",
       "    </tr>\n",
       "    <tr>\n",
       "      <th>Unnamed: 4</th>\n",
       "      <td>6</td>\n",
       "      <td>5</td>\n",
       "      <td>GNT:-)\"</td>\n",
       "      <td>2</td>\n",
       "    </tr>\n",
       "  </tbody>\n",
       "</table>\n",
       "</div>"
      ],
      "text/plain": [
       "           count unique                                                top  \\\n",
       "v1          5572      2                                                ham   \n",
       "v2          5572   5169                             Sorry, I'll call later   \n",
       "Unnamed: 2    50     43   bt not his girlfrnd... G o o d n i g h t . . .@\"   \n",
       "Unnamed: 3    12     10                               MK17 92H. 450Ppw 16\"   \n",
       "Unnamed: 4     6      5                                            GNT:-)\"   \n",
       "\n",
       "            freq  \n",
       "v1          4825  \n",
       "v2            30  \n",
       "Unnamed: 2     3  \n",
       "Unnamed: 3     2  \n",
       "Unnamed: 4     2  "
      ]
     },
     "execution_count": 11,
     "metadata": {},
     "output_type": "execute_result"
    }
   ],
   "source": [
    "# Descriptions of each column in our dataset\n",
    "data_frame.describe().transpose()"
   ]
  },
  {
   "cell_type": "code",
   "execution_count": 12,
   "metadata": {},
   "outputs": [
    {
     "name": "stdout",
     "output_type": "stream",
     "text": [
      "Value for [v1]:\n",
      "0        ham\n",
      "1        ham\n",
      "2       spam\n",
      "3        ham\n",
      "4        ham\n",
      "        ... \n",
      "5567    spam\n",
      "5568     ham\n",
      "5569     ham\n",
      "5570     ham\n",
      "5571     ham\n",
      "Name: v1, Length: 5572, dtype: object \n",
      "\n"
     ]
    }
   ],
   "source": [
    "print('Value for [v1]:')\n",
    "print(data_frame['v1'], '\\n')"
   ]
  },
  {
   "cell_type": "code",
   "execution_count": 14,
   "metadata": {},
   "outputs": [
    {
     "name": "stdout",
     "output_type": "stream",
     "text": [
      "Value for [Unnamed: 4]:\n",
      "0       NaN\n",
      "1       NaN\n",
      "2       NaN\n",
      "3       NaN\n",
      "4       NaN\n",
      "       ... \n",
      "5567    NaN\n",
      "5568    NaN\n",
      "5569    NaN\n",
      "5570    NaN\n",
      "5571    NaN\n",
      "Name: Unnamed: 4, Length: 5572, dtype: object \n",
      "\n"
     ]
    }
   ],
   "source": [
    "print('Value for [Unnamed: 4]:')\n",
    "print(data_frame['Unnamed: 4'], '\\n')"
   ]
  },
  {
   "cell_type": "code",
   "execution_count": 16,
   "metadata": {},
   "outputs": [
    {
     "name": "stdout",
     "output_type": "stream",
     "text": [
      "Value for [v1 == ham]:\n",
      "0        True\n",
      "1        True\n",
      "2       False\n",
      "3        True\n",
      "4        True\n",
      "        ...  \n",
      "5567    False\n",
      "5568     True\n",
      "5569     True\n",
      "5570     True\n",
      "5571     True\n",
      "Name: v1, Length: 5572, dtype: bool \n",
      "\n"
     ]
    }
   ],
   "source": [
    "print('Value for [v1 == ham]:')\n",
    "print(data_frame['v1'] == 'ham', '\\n')"
   ]
  },
  {
   "cell_type": "code",
   "execution_count": 17,
   "metadata": {},
   "outputs": [
    {
     "name": "stdout",
     "output_type": "stream",
     "text": [
      "0       111\n",
      "1        29\n",
      "2       155\n",
      "3        49\n",
      "4        61\n",
      "       ... \n",
      "5567    161\n",
      "5568     37\n",
      "5569     57\n",
      "5570    125\n",
      "5571     26\n",
      "Name: v2, Length: 5572, dtype: int64\n"
     ]
    }
   ],
   "source": [
    "print(data_frame['v2'].str.len())"
   ]
  },
  {
   "cell_type": "code",
   "execution_count": 19,
   "metadata": {
    "scrolled": true
   },
   "outputs": [
    {
     "name": "stdout",
     "output_type": "stream",
     "text": [
      "0       111\n",
      "1        29\n",
      "2       155\n",
      "3        49\n",
      "4        61\n",
      "       ... \n",
      "5567    161\n",
      "5568     37\n",
      "5569     57\n",
      "5570    125\n",
      "5571     26\n",
      "Name: v2, Length: 5572, dtype: int64\n"
     ]
    }
   ],
   "source": [
    "print(data_frame['v2'].apply(lambda t: len(t)))"
   ]
  },
  {
   "cell_type": "code",
   "execution_count": null,
   "metadata": {},
   "outputs": [],
   "source": [
    "#data_frame.loc[row selector, col selector]: Access group of values using labels or logical arrays"
   ]
  },
  {
   "cell_type": "code",
   "execution_count": 21,
   "metadata": {},
   "outputs": [
    {
     "name": "stdout",
     "output_type": "stream",
     "text": [
      "All spam rows:\n",
      "        v1                                                 v2 Unnamed: 2  \\\n",
      "2     spam  Free entry in 2 a wkly comp to win FA Cup fina...        NaN   \n",
      "5     spam  FreeMsg Hey there darling it's been 3 week's n...        NaN   \n",
      "8     spam  WINNER!! As a valued network customer you have...        NaN   \n",
      "9     spam  Had your mobile 11 months or more? U R entitle...        NaN   \n",
      "11    spam  SIX chances to win CASH! From 100 to 20,000 po...        NaN   \n",
      "...    ...                                                ...        ...   \n",
      "5537  spam  Want explicit SEX in 30 secs? Ring 02073162414...        NaN   \n",
      "5540  spam  ASKED 3MOBILE IF 0870 CHATLINES INCLU IN FREE ...        NaN   \n",
      "5547  spam  Had your contract mobile 11 Mnths? Latest Moto...        NaN   \n",
      "5566  spam  REMINDER FROM O2: To get 2.50 pounds free call...        NaN   \n",
      "5567  spam  This is the 2nd time we have tried 2 contact u...        NaN   \n",
      "\n",
      "     Unnamed: 3 Unnamed: 4  \n",
      "2           NaN        NaN  \n",
      "5           NaN        NaN  \n",
      "8           NaN        NaN  \n",
      "9           NaN        NaN  \n",
      "11          NaN        NaN  \n",
      "...         ...        ...  \n",
      "5537        NaN        NaN  \n",
      "5540        NaN        NaN  \n",
      "5547        NaN        NaN  \n",
      "5566        NaN        NaN  \n",
      "5567        NaN        NaN  \n",
      "\n",
      "[747 rows x 5 columns]\n",
      "\n",
      "All spam text:\n",
      "2       Free entry in 2 a wkly comp to win FA Cup fina...\n",
      "5       FreeMsg Hey there darling it's been 3 week's n...\n",
      "8       WINNER!! As a valued network customer you have...\n",
      "9       Had your mobile 11 months or more? U R entitle...\n",
      "11      SIX chances to win CASH! From 100 to 20,000 po...\n",
      "                              ...                        \n",
      "5537    Want explicit SEX in 30 secs? Ring 02073162414...\n",
      "5540    ASKED 3MOBILE IF 0870 CHATLINES INCLU IN FREE ...\n",
      "5547    Had your contract mobile 11 Mnths? Latest Moto...\n",
      "5566    REMINDER FROM O2: To get 2.50 pounds free call...\n",
      "5567    This is the 2nd time we have tried 2 contact u...\n",
      "Name: v2, Length: 747, dtype: object\n",
      "\n",
      "All short spam text:\n",
      "712     08714712388 between 10am-7pm Cost 10p\n",
      "1776        Call FREEPHONE 0800 542 0578 now!\n",
      "2078           85233 FREE>Ringtone!Reply REAL\n",
      "2268        88066 FROM 88066 LOST 3POUND HELP\n",
      "2698                FROM 88066 LOST å£12 HELP\n",
      "2802        FreeMsg>FAV XMAS TONES!Reply REAL\n",
      "3740                            2/2 146tf150p\n",
      "3979                       ringtoneking 84484\n",
      "Name: v2, dtype: object\n"
     ]
    }
   ],
   "source": [
    "#loc with label names and logical arrays\n",
    "print('All spam rows:')\n",
    "print(data_frame.loc[data_frame['v1'] == 'spam', :])\n",
    "\n",
    "print('\\nAll spam text:')\n",
    "print(data_frame.loc[data_frame['v1'] == 'spam', 'v2'])\n",
    "\n",
    "print('\\nAll short spam text:')\n",
    "print(data_frame.loc[(data_frame['v1'] == 'spam') & (data_frame['v2'].str.len() < 40), 'v2'])"
   ]
  },
  {
   "cell_type": "code",
   "execution_count": 25,
   "metadata": {},
   "outputs": [
    {
     "name": "stdout",
     "output_type": "stream",
     "text": [
      "Rows from 5 to 15, cols from 0 to 2\n",
      "      v1                                                 v2\n",
      "10   ham  I'm gonna be home soon and i don't want to tal...\n",
      "11  spam  SIX chances to win CASH! From 100 to 20,000 po...\n",
      "12  spam  URGENT! You have won a 1 week FREE membership ...\n",
      "13   ham  I've been searching for the right words to tha...\n",
      "14   ham                I HAVE A DATE ON SUNDAY WITH WILL!!\n",
      "15  spam  XXXMobileMovieClub: To use your credit, click ...\n",
      "16   ham                         Oh k...i'm watching here:)\n",
      "17   ham  Eh u remember how 2 spell his name... Yes i di...\n",
      "18   ham  Fine if thatåÕs the way u feel. ThatåÕs the wa...\n",
      "19  spam  England v Macedonia - dont miss the goals/team...\n",
      "20   ham          Is that seriously how you spell his name?\n",
      "21   ham  IÛ÷m going to try for 2 months ha ha only joking\n"
     ]
    }
   ],
   "source": [
    "#iloc with slicing on indices\n",
    "print('Rows from 10 to 22, cols from 0 to 2')\n",
    "print(data_frame.iloc[10:22, 0:2])\n"
   ]
  },
  {
   "cell_type": "code",
   "execution_count": 26,
   "metadata": {},
   "outputs": [
    {
     "name": "stdout",
     "output_type": "stream",
     "text": [
      "Spam rows from 0 to 10\n",
      "      v1                                                 v2\n",
      "2   spam  Free entry in 2 a wkly comp to win FA Cup fina...\n",
      "5   spam  FreeMsg Hey there darling it's been 3 week's n...\n",
      "8   spam  WINNER!! As a valued network customer you have...\n",
      "9   spam  Had your mobile 11 months or more? U R entitle...\n",
      "11  spam  SIX chances to win CASH! From 100 to 20,000 po...\n",
      "12  spam  URGENT! You have won a 1 week FREE membership ...\n",
      "15  spam  XXXMobileMovieClub: To use your credit, click ...\n",
      "19  spam  England v Macedonia - dont miss the goals/team...\n",
      "34  spam  Thanks for your subscription to Ringtone UK yo...\n",
      "42  spam  07732584351 - Rodger Burns - MSG = We tried to...\n",
      "\n",
      "Using \"at\" with index 8 for the row:\n",
      "WINNER!! As a valued network customer you have been selected to receivea å£900 prize reward! To claim call 09061701461. Claim code KL341. Valid 12 hours only.\n"
     ]
    }
   ],
   "source": [
    "spam_frame = data_frame.loc[data_frame['v1'] == 'spam']\n",
    "print('Spam rows from 0 to 10')\n",
    "print(spam_frame.iloc[0:10, 0:2])\n",
    "print('\\nUsing \"at\" with index 8 for the row:')\n",
    "print(spam_frame.at[8, 'v2'])"
   ]
  },
  {
   "cell_type": "code",
   "execution_count": null,
   "metadata": {},
   "outputs": [],
   "source": []
  }
 ],
 "metadata": {
  "kernelspec": {
   "display_name": "Python 3",
   "language": "python",
   "name": "python3"
  },
  "language_info": {
   "codemirror_mode": {
    "name": "ipython",
    "version": 3
   },
   "file_extension": ".py",
   "mimetype": "text/x-python",
   "name": "python",
   "nbconvert_exporter": "python",
   "pygments_lexer": "ipython3",
   "version": "3.6.9"
  }
 },
 "nbformat": 4,
 "nbformat_minor": 4
}
